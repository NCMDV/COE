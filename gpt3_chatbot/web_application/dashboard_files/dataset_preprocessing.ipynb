{
 "cells": [
  {
   "cell_type": "code",
   "execution_count": 48,
   "metadata": {},
   "outputs": [
    {
     "name": "stderr",
     "output_type": "stream",
     "text": [
      "[nltk_data] Downloading package stopwords to\n",
      "[nltk_data]     C:\\Users\\PPANGILINAN\\AppData\\Roaming\\nltk_data...\n",
      "[nltk_data]   Package stopwords is already up-to-date!\n",
      "[nltk_data] Downloading package wordnet to\n",
      "[nltk_data]     C:\\Users\\PPANGILINAN\\AppData\\Roaming\\nltk_data...\n",
      "[nltk_data]   Package wordnet is already up-to-date!\n"
     ]
    },
    {
     "data": {
      "text/plain": [
       "True"
      ]
     },
     "execution_count": 48,
     "metadata": {},
     "output_type": "execute_result"
    }
   ],
   "source": [
    "import pandas as pd\n",
    "import re\n",
    "import json\n",
    "from spellchecker import SpellChecker\n",
    "\n",
    "import nltk\n",
    "from nltk.corpus import stopwords\n",
    "from nltk.tokenize import word_tokenize\n",
    "from nltk.stem import WordNetLemmatizer\n",
    "from nltk.corpus import wordnet\n",
    "nltk.download('stopwords')\n",
    "nltk.download('wordnet')\n"
   ]
  },
  {
   "cell_type": "markdown",
   "metadata": {},
   "source": [
    "## greeting"
   ]
  },
  {
   "cell_type": "code",
   "execution_count": 49,
   "metadata": {},
   "outputs": [
    {
     "data": {
      "text/html": [
       "<div>\n",
       "<style scoped>\n",
       "    .dataframe tbody tr th:only-of-type {\n",
       "        vertical-align: middle;\n",
       "    }\n",
       "\n",
       "    .dataframe tbody tr th {\n",
       "        vertical-align: top;\n",
       "    }\n",
       "\n",
       "    .dataframe thead th {\n",
       "        text-align: right;\n",
       "    }\n",
       "</style>\n",
       "<table border=\"1\" class=\"dataframe\">\n",
       "  <thead>\n",
       "    <tr style=\"text-align: right;\">\n",
       "      <th></th>\n",
       "      <th>text</th>\n",
       "      <th>intent</th>\n",
       "    </tr>\n",
       "  </thead>\n",
       "  <tbody>\n",
       "    <tr>\n",
       "      <th>0</th>\n",
       "      <td>Good morning</td>\n",
       "      <td>greeting</td>\n",
       "    </tr>\n",
       "    <tr>\n",
       "      <th>1</th>\n",
       "      <td>Hey</td>\n",
       "      <td>greeting</td>\n",
       "    </tr>\n",
       "    <tr>\n",
       "      <th>2</th>\n",
       "      <td>Hey there</td>\n",
       "      <td>greeting</td>\n",
       "    </tr>\n",
       "    <tr>\n",
       "      <th>3</th>\n",
       "      <td>Hey there, what's up?</td>\n",
       "      <td>greeting</td>\n",
       "    </tr>\n",
       "    <tr>\n",
       "      <th>4</th>\n",
       "      <td>what's up?</td>\n",
       "      <td>greeting</td>\n",
       "    </tr>\n",
       "  </tbody>\n",
       "</table>\n",
       "</div>"
      ],
      "text/plain": [
       "                    text    intent\n",
       "0           Good morning  greeting\n",
       "1                    Hey  greeting\n",
       "2              Hey there  greeting\n",
       "3  Hey there, what's up?  greeting\n",
       "4             what's up?  greeting"
      ]
     },
     "execution_count": 49,
     "metadata": {},
     "output_type": "execute_result"
    }
   ],
   "source": [
    "df1 = pd.read_csv(\"./datasets_pre/Intents_greeting.csv\")\n",
    "\n",
    "with open('./datasets_pre/Intent.json') as f:\n",
    "    data = json.load(f)\n",
    "df2 = pd.DataFrame(data[\"intents\"])\n",
    "df2 = df2[['text', 'intent']]\n",
    "df2 = df2.explode('text')\n",
    "df2 = df2[(df2[\"intent\"] == \"Greeting\") | (df2[\"intent\"] == \"CourtesyGreeting\")]\n",
    "\n",
    "additional_greetings = {\"text\":[\"Good morning\", \"Good afternoon\", \"Good evening\", \"hello\", \"morning\", \"mornin\", \"afternoon\", \"evening\",  \"It's nice to meet you\", \"Pleased to meet you\", \"nice to meet you\", \"it's nice to see you again\", \"nice to see you again\", \"it's nice to see you\", \"nice to see you\", \"nice to see u\", \"nice to meet u\", \"How have you been?\", \"How do you do?\", \"Hey\", \"Hey man\", \"Hi\", \"hello\", \"How's it going?\", \"How are you doing?\", \"how are you?\", \"What's up?\", \"What's new?\", \"What's going on?\", \"How's everything?\"  ,\" How are things?\",\"How's life?\", \"How's your day? \" ,\"How's your day going?\", \" Good to see you\",\"Nice to see you\", \" Long time no see\",\"It's been a while \", \"Yo!\", \"Howdy!\", \" Sup?\",\"Whazzup? \", \" G'day mate!\", \" Hiya!\", \"Hello\", \"Bonjour\", \"Hola\", \"Salaam\", \"Guten tag\", \"Hello\", \"Sup\", \"Heyyy\", \"Ahoy!\", \"Hello stranger!\", \"Goodmorrow!\", \"What's crackin'?\", \"What's up buttercup?\", \"'Sup?\",\"Wassup?\",\"Wazzup?\", \"Hey there!\", \"Good day\", \"Namaste\", \"Ohayo\", \"Ni Hao\", \"Salaam\"]}\n",
    "df3 = pd.DataFrame(additional_greetings)\n",
    "df3['intent'] = \"greeting\"\n",
    "\n",
    "greeting_df = pd.concat([df1, df2, df3], ignore_index=True)\n",
    "greeting_df[\"intent\"] = \"greeting\"\n",
    "greeting_df.head()"
   ]
  },
  {
   "cell_type": "code",
   "execution_count": 51,
   "metadata": {},
   "outputs": [],
   "source": [
    "stopwords_eng = set(stopwords.words('english'))\n",
    "negation_set = {'no', 'nor', 'not', 't', 'can', \"don't\", 'ain', 'aren', \"aren't\", 'couldn', \"couldn't\", 'didn', \"didn't\", 'doesn', \"doesn't\", 'hadn', \"hadn't\", 'hasn', \"hasn't\", 'haven', \"haven't\", 'isn', \"isn't\", 'ma', 'mightn',\"mightn't\", 'mustn', \"mustn't\", 'needn', \"needn't\", 'shan', \"shan't\", 'shouldn', \"shouldn't\", 'wasn', \"wasn't\", 'weren', \"weren't\", 'won', \"won't\", 'wouldn', \"wouldn't\"}\n",
    "stopwords_eng = stopwords_eng - negation_set\n",
    "\n",
    "\n",
    "def get_wordnet_pos(word):\n",
    "    \"\"\"Map POS tag to first character lemmatize() accepts\"\"\"\n",
    "    try:\n",
    "        tag = nltk.pos_tag([word])[0][1][0].upper()\n",
    "        tag_dict = {\"J\": wordnet.ADJ,\n",
    "                    \"N\": wordnet.NOUN,\n",
    "                    \"V\": wordnet.VERB,\n",
    "                    \"R\": wordnet.ADV}\n",
    "\n",
    "        return tag_dict.get(tag, wordnet.NOUN)\n",
    "    except:\n",
    "        print(type(word))\n",
    "        return wordnet.NOUN\n",
    "\n",
    "def preprocess_text(text):\n",
    "\n",
    "    \"\"\"\n",
    "    Time in seconds for each step:\n",
    "    {'cleaning': 0.12903165817260742, 'spelling': 117.63137936592102, 'stopwords': 0.0, 'lemmatization': 0.6576428413391113}\n",
    "    \"\"\"\n",
    "\n",
    "    #to remove punctuations only\n",
    "    text = text.lower()\n",
    "    text = re.sub('[!\"#$%&\\'()*+,-./:;<=>?@[\\\\]^_`{|}~]+', '', text)\n",
    "    \n",
    "    #to remove punctuations and special characters (other languages)\n",
    "    text = re.sub(r'[^\\w\\s]+', '', text) \n",
    "\n",
    "    word_tokens = word_tokenize(text)\n",
    "\n",
    "    # #correct misspelled (english)    \n",
    "    # spell = SpellChecker()\n",
    "    # misspelled = spell.unknown(word_tokens)\n",
    "    # word_tokens = [w if w not in misspelled else spell.correction(w) for w in word_tokens]\n",
    "\n",
    "    #removing stopwords\n",
    "    word_tokens = [w for w in word_tokens if not w in stopwords_eng]\n",
    "\n",
    "    #lemmatization\n",
    "    lemmatizer = WordNetLemmatizer()\n",
    "    word_tokens = [lemmatizer.lemmatize(w, get_wordnet_pos(w)) if w is not None else \"\" for w in word_tokens]\n",
    "\n",
    "    clean_text = ' '.join(word_tokens)\n",
    "    return clean_text"
   ]
  },
  {
   "cell_type": "code",
   "execution_count": 52,
   "metadata": {},
   "outputs": [
    {
     "data": {
      "text/html": [
       "<div>\n",
       "<style scoped>\n",
       "    .dataframe tbody tr th:only-of-type {\n",
       "        vertical-align: middle;\n",
       "    }\n",
       "\n",
       "    .dataframe tbody tr th {\n",
       "        vertical-align: top;\n",
       "    }\n",
       "\n",
       "    .dataframe thead th {\n",
       "        text-align: right;\n",
       "    }\n",
       "</style>\n",
       "<table border=\"1\" class=\"dataframe\">\n",
       "  <thead>\n",
       "    <tr style=\"text-align: right;\">\n",
       "      <th></th>\n",
       "      <th>text</th>\n",
       "      <th>intent</th>\n",
       "    </tr>\n",
       "  </thead>\n",
       "  <tbody>\n",
       "    <tr>\n",
       "      <th>0</th>\n",
       "      <td>good morning</td>\n",
       "      <td>greeting</td>\n",
       "    </tr>\n",
       "    <tr>\n",
       "      <th>1</th>\n",
       "      <td>hey</td>\n",
       "      <td>greeting</td>\n",
       "    </tr>\n",
       "    <tr>\n",
       "      <th>2</th>\n",
       "      <td>hey</td>\n",
       "      <td>greeting</td>\n",
       "    </tr>\n",
       "    <tr>\n",
       "      <th>3</th>\n",
       "      <td>hey whats</td>\n",
       "      <td>greeting</td>\n",
       "    </tr>\n",
       "    <tr>\n",
       "      <th>4</th>\n",
       "      <td>whats</td>\n",
       "      <td>greeting</td>\n",
       "    </tr>\n",
       "  </tbody>\n",
       "</table>\n",
       "</div>"
      ],
      "text/plain": [
       "           text    intent\n",
       "0  good morning  greeting\n",
       "1           hey  greeting\n",
       "2           hey  greeting\n",
       "3     hey whats  greeting\n",
       "4         whats  greeting"
      ]
     },
     "execution_count": 52,
     "metadata": {},
     "output_type": "execute_result"
    }
   ],
   "source": [
    "greeting_df['text'] = greeting_df['text'].apply(preprocess_text)\n",
    "greeting_df.head()"
   ]
  },
  {
   "cell_type": "code",
   "execution_count": 53,
   "metadata": {},
   "outputs": [
    {
     "data": {
      "text/plain": [
       "(534, 2)"
      ]
     },
     "execution_count": 53,
     "metadata": {},
     "output_type": "execute_result"
    }
   ],
   "source": [
    "greeting_df.drop_duplicates(inplace=True)\n",
    "greeting_df.dropna(inplace=True)\n",
    "greeting_df = greeting_df.drop(greeting_df[greeting_df['text'] == ''].index)\n",
    "greeting_df.reset_index(inplace=True, drop=True)\n",
    "greeting_df.shape"
   ]
  },
  {
   "cell_type": "code",
   "execution_count": 54,
   "metadata": {},
   "outputs": [],
   "source": [
    "greeting_df.to_csv(\"./datasets_post/greeting.csv\", index=False)"
   ]
  },
  {
   "cell_type": "markdown",
   "metadata": {},
   "source": [
    "## live_agent"
   ]
  },
  {
   "cell_type": "code",
   "execution_count": 55,
   "metadata": {},
   "outputs": [
    {
     "data": {
      "text/html": [
       "<div>\n",
       "<style scoped>\n",
       "    .dataframe tbody tr th:only-of-type {\n",
       "        vertical-align: middle;\n",
       "    }\n",
       "\n",
       "    .dataframe tbody tr th {\n",
       "        vertical-align: top;\n",
       "    }\n",
       "\n",
       "    .dataframe thead th {\n",
       "        text-align: right;\n",
       "    }\n",
       "</style>\n",
       "<table border=\"1\" class=\"dataframe\">\n",
       "  <thead>\n",
       "    <tr style=\"text-align: right;\">\n",
       "      <th></th>\n",
       "      <th>text</th>\n",
       "      <th>intent</th>\n",
       "    </tr>\n",
       "  </thead>\n",
       "  <tbody>\n",
       "    <tr>\n",
       "      <th>0</th>\n",
       "      <td>I need to talk to a human.</td>\n",
       "      <td>live_agent</td>\n",
       "    </tr>\n",
       "    <tr>\n",
       "      <th>1</th>\n",
       "      <td>Get me a real person!</td>\n",
       "      <td>live_agent</td>\n",
       "    </tr>\n",
       "    <tr>\n",
       "      <th>2</th>\n",
       "      <td>Can I speak to someone?</td>\n",
       "      <td>live_agent</td>\n",
       "    </tr>\n",
       "    <tr>\n",
       "      <th>3</th>\n",
       "      <td>I want to chat with an agent.</td>\n",
       "      <td>live_agent</td>\n",
       "    </tr>\n",
       "    <tr>\n",
       "      <th>4</th>\n",
       "      <td>Connect me with a live rep now.</td>\n",
       "      <td>live_agent</td>\n",
       "    </tr>\n",
       "  </tbody>\n",
       "</table>\n",
       "</div>"
      ],
      "text/plain": [
       "                              text      intent\n",
       "0       I need to talk to a human.  live_agent\n",
       "1            Get me a real person!  live_agent\n",
       "2          Can I speak to someone?  live_agent\n",
       "3    I want to chat with an agent.  live_agent\n",
       "4  Connect me with a live rep now.  live_agent"
      ]
     },
     "execution_count": 55,
     "metadata": {},
     "output_type": "execute_result"
    }
   ],
   "source": [
    "df1 = pd.read_csv(\"./datasets_pre/Intents_live_agent.csv\")\n",
    "\n",
    "df2 = pd.read_csv(\"./datasets_pre/Bitext_Sample_Customer_Service_Training_Dataset.csv\")\n",
    "df2.rename(columns={\"utterance\": \"text\"}, inplace=True)\n",
    "df2 = df2[df2[\"intent\"] == \"contact_human_agent\"][[\"text\", \"intent\"]]\n",
    "\n",
    "live_agent_df = pd.concat([df1, df2], ignore_index=True)\n",
    "live_agent_df[\"intent\"] = \"live_agent\"\n",
    "live_agent_df.head()"
   ]
  },
  {
   "cell_type": "code",
   "execution_count": 56,
   "metadata": {},
   "outputs": [
    {
     "data": {
      "text/html": [
       "<div>\n",
       "<style scoped>\n",
       "    .dataframe tbody tr th:only-of-type {\n",
       "        vertical-align: middle;\n",
       "    }\n",
       "\n",
       "    .dataframe tbody tr th {\n",
       "        vertical-align: top;\n",
       "    }\n",
       "\n",
       "    .dataframe thead th {\n",
       "        text-align: right;\n",
       "    }\n",
       "</style>\n",
       "<table border=\"1\" class=\"dataframe\">\n",
       "  <thead>\n",
       "    <tr style=\"text-align: right;\">\n",
       "      <th></th>\n",
       "      <th>text</th>\n",
       "      <th>intent</th>\n",
       "    </tr>\n",
       "  </thead>\n",
       "  <tbody>\n",
       "    <tr>\n",
       "      <th>0</th>\n",
       "      <td>need talk human</td>\n",
       "      <td>live_agent</td>\n",
       "    </tr>\n",
       "    <tr>\n",
       "      <th>1</th>\n",
       "      <td>get real person</td>\n",
       "      <td>live_agent</td>\n",
       "    </tr>\n",
       "    <tr>\n",
       "      <th>2</th>\n",
       "      <td>can speak someone</td>\n",
       "      <td>live_agent</td>\n",
       "    </tr>\n",
       "    <tr>\n",
       "      <th>3</th>\n",
       "      <td>want chat agent</td>\n",
       "      <td>live_agent</td>\n",
       "    </tr>\n",
       "    <tr>\n",
       "      <th>4</th>\n",
       "      <td>connect live rep</td>\n",
       "      <td>live_agent</td>\n",
       "    </tr>\n",
       "  </tbody>\n",
       "</table>\n",
       "</div>"
      ],
      "text/plain": [
       "                text      intent\n",
       "0    need talk human  live_agent\n",
       "1    get real person  live_agent\n",
       "2  can speak someone  live_agent\n",
       "3    want chat agent  live_agent\n",
       "4   connect live rep  live_agent"
      ]
     },
     "execution_count": 56,
     "metadata": {},
     "output_type": "execute_result"
    }
   ],
   "source": [
    "live_agent_df['text'] = live_agent_df['text'].apply(preprocess_text)\n",
    "live_agent_df.head()"
   ]
  },
  {
   "cell_type": "code",
   "execution_count": 57,
   "metadata": {},
   "outputs": [
    {
     "data": {
      "text/plain": [
       "(628, 2)"
      ]
     },
     "execution_count": 57,
     "metadata": {},
     "output_type": "execute_result"
    }
   ],
   "source": [
    "live_agent_df.drop_duplicates(inplace=True)\n",
    "live_agent_df.dropna(inplace=True)\n",
    "live_agent_df = live_agent_df.drop(live_agent_df[live_agent_df['text'] == ''].index)\n",
    "live_agent_df.reset_index(inplace=True, drop=True)\n",
    "live_agent_df.shape"
   ]
  },
  {
   "cell_type": "code",
   "execution_count": 58,
   "metadata": {},
   "outputs": [],
   "source": [
    "live_agent_df.to_csv(\"./datasets_post/live_agent.csv\", index=False)"
   ]
  },
  {
   "cell_type": "markdown",
   "metadata": {},
   "source": [
    "## others"
   ]
  },
  {
   "cell_type": "code",
   "execution_count": 59,
   "metadata": {},
   "outputs": [
    {
     "data": {
      "text/html": [
       "<div>\n",
       "<style scoped>\n",
       "    .dataframe tbody tr th:only-of-type {\n",
       "        vertical-align: middle;\n",
       "    }\n",
       "\n",
       "    .dataframe tbody tr th {\n",
       "        vertical-align: top;\n",
       "    }\n",
       "\n",
       "    .dataframe thead th {\n",
       "        text-align: right;\n",
       "    }\n",
       "</style>\n",
       "<table border=\"1\" class=\"dataframe\">\n",
       "  <thead>\n",
       "    <tr style=\"text-align: right;\">\n",
       "      <th></th>\n",
       "      <th>text</th>\n",
       "      <th>intent</th>\n",
       "    </tr>\n",
       "  </thead>\n",
       "  <tbody>\n",
       "    <tr>\n",
       "      <th>0</th>\n",
       "      <td>My user is Adam</td>\n",
       "      <td>others</td>\n",
       "    </tr>\n",
       "    <tr>\n",
       "      <th>1</th>\n",
       "      <td>This is Adam</td>\n",
       "      <td>others</td>\n",
       "    </tr>\n",
       "    <tr>\n",
       "      <th>2</th>\n",
       "      <td>I am Adam</td>\n",
       "      <td>others</td>\n",
       "    </tr>\n",
       "    <tr>\n",
       "      <th>3</th>\n",
       "      <td>It is Adam</td>\n",
       "      <td>others</td>\n",
       "    </tr>\n",
       "    <tr>\n",
       "      <th>4</th>\n",
       "      <td>My user is Bella</td>\n",
       "      <td>others</td>\n",
       "    </tr>\n",
       "  </tbody>\n",
       "</table>\n",
       "</div>"
      ],
      "text/plain": [
       "               text  intent\n",
       "0   My user is Adam  others\n",
       "1      This is Adam  others\n",
       "2         I am Adam  others\n",
       "3        It is Adam  others\n",
       "4  My user is Bella  others"
      ]
     },
     "execution_count": 59,
     "metadata": {},
     "output_type": "execute_result"
    }
   ],
   "source": [
    "with open('./datasets_pre/Intent.json') as f:\n",
    "    data = json.load(f)\n",
    "df1 = pd.DataFrame(data[\"intents\"])\n",
    "df1 = df1[['text', 'intent']]\n",
    "df1 = df1.explode('text')\n",
    "df1 = df1[(df1[\"intent\"] != \"Greeting\") & (df1[\"intent\"] != \"CourtesyGreeting\")]\n",
    "\n",
    "\n",
    "df2 = pd.read_csv(\"./datasets_pre/Bitext_Sample_Customer_Service_Training_Dataset.csv\")\n",
    "df2.rename(columns={\"utterance\": \"text\"}, inplace=True)\n",
    "df2 = df2[df2[\"intent\"] != \"contact_human_agent\"][[\"text\", \"intent\"]]\n",
    "\n",
    "others_df = pd.concat([df1, df2], ignore_index=True)\n",
    "others_df[\"intent\"] = \"others\"\n",
    "others_df.head()"
   ]
  },
  {
   "cell_type": "code",
   "execution_count": 60,
   "metadata": {},
   "outputs": [
    {
     "data": {
      "text/html": [
       "<div>\n",
       "<style scoped>\n",
       "    .dataframe tbody tr th:only-of-type {\n",
       "        vertical-align: middle;\n",
       "    }\n",
       "\n",
       "    .dataframe tbody tr th {\n",
       "        vertical-align: top;\n",
       "    }\n",
       "\n",
       "    .dataframe thead th {\n",
       "        text-align: right;\n",
       "    }\n",
       "</style>\n",
       "<table border=\"1\" class=\"dataframe\">\n",
       "  <thead>\n",
       "    <tr style=\"text-align: right;\">\n",
       "      <th></th>\n",
       "      <th>text</th>\n",
       "      <th>intent</th>\n",
       "    </tr>\n",
       "  </thead>\n",
       "  <tbody>\n",
       "    <tr>\n",
       "      <th>0</th>\n",
       "      <td>user adam</td>\n",
       "      <td>others</td>\n",
       "    </tr>\n",
       "    <tr>\n",
       "      <th>1</th>\n",
       "      <td>adam</td>\n",
       "      <td>others</td>\n",
       "    </tr>\n",
       "    <tr>\n",
       "      <th>2</th>\n",
       "      <td>adam</td>\n",
       "      <td>others</td>\n",
       "    </tr>\n",
       "    <tr>\n",
       "      <th>3</th>\n",
       "      <td>adam</td>\n",
       "      <td>others</td>\n",
       "    </tr>\n",
       "    <tr>\n",
       "      <th>4</th>\n",
       "      <td>user bella</td>\n",
       "      <td>others</td>\n",
       "    </tr>\n",
       "  </tbody>\n",
       "</table>\n",
       "</div>"
      ],
      "text/plain": [
       "         text  intent\n",
       "0   user adam  others\n",
       "1        adam  others\n",
       "2        adam  others\n",
       "3        adam  others\n",
       "4  user bella  others"
      ]
     },
     "execution_count": 60,
     "metadata": {},
     "output_type": "execute_result"
    }
   ],
   "source": [
    "others_df['text'] = others_df['text'].apply(preprocess_text)\n",
    "others_df.head()"
   ]
  },
  {
   "cell_type": "code",
   "execution_count": 61,
   "metadata": {},
   "outputs": [
    {
     "data": {
      "text/plain": [
       "(4545, 2)"
      ]
     },
     "execution_count": 61,
     "metadata": {},
     "output_type": "execute_result"
    }
   ],
   "source": [
    "others_df.drop_duplicates(inplace=True)\n",
    "others_df.dropna(inplace=True)\n",
    "others_df = others_df.drop(others_df[others_df['text'] == ''].index)\n",
    "others_df.reset_index(inplace=True, drop=True)\n",
    "others_df.shape"
   ]
  },
  {
   "cell_type": "code",
   "execution_count": 62,
   "metadata": {},
   "outputs": [],
   "source": [
    "others_df.to_csv(\"./datasets_post/others.csv\", index=False)"
   ]
  }
 ],
 "metadata": {
  "kernelspec": {
   "display_name": "env",
   "language": "python",
   "name": "python3"
  },
  "language_info": {
   "codemirror_mode": {
    "name": "ipython",
    "version": 3
   },
   "file_extension": ".py",
   "mimetype": "text/x-python",
   "name": "python",
   "nbconvert_exporter": "python",
   "pygments_lexer": "ipython3",
   "version": "3.9.13"
  }
 },
 "nbformat": 4,
 "nbformat_minor": 2
}
